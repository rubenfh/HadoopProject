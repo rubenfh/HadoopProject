{
 "cells": [
  {
   "cell_type": "markdown",
   "metadata": {},
   "source": [
    "## SparkSession Object "
   ]
  },
  {
   "cell_type": "code",
   "execution_count": 1,
   "metadata": {},
   "outputs": [],
   "source": [
    "from pyspark.sql import SparkSession\n",
    "spark=SparkSession.builder.appName('lin_reg').getOrCreate()"
   ]
  },
  {
   "cell_type": "markdown",
   "metadata": {},
   "source": [
    "## Read the dataset "
   ]
  },
  {
   "cell_type": "code",
   "execution_count": 2,
   "metadata": {},
   "outputs": [],
   "source": [
    "df=spark.read.csv('./Data/movie_ratings_df.csv',inferSchema=True,header=True)"
   ]
  },
  {
   "cell_type": "code",
   "execution_count": 3,
   "metadata": {},
   "outputs": [
    {
     "name": "stdout",
     "output_type": "stream",
     "text": [
      "(100000, 3)\n"
     ]
    }
   ],
   "source": [
    "print((df.count(), len(df.columns)))\n"
   ]
  },
  {
   "cell_type": "code",
   "execution_count": 4,
   "metadata": {},
   "outputs": [
    {
     "name": "stdout",
     "output_type": "stream",
     "text": [
      "root\n",
      " |-- userId: integer (nullable = true)\n",
      " |-- title: string (nullable = true)\n",
      " |-- rating: integer (nullable = true)\n",
      "\n"
     ]
    }
   ],
   "source": [
    "df.printSchema()\n"
   ]
  },
  {
   "cell_type": "code",
   "execution_count": 5,
   "metadata": {},
   "outputs": [
    {
     "name": "stdout",
     "output_type": "stream",
     "text": [
      "+------+-----+\n",
      "|userId|count|\n",
      "+------+-----+\n",
      "|405   |737  |\n",
      "|655   |685  |\n",
      "|13    |636  |\n",
      "|450   |540  |\n",
      "|276   |518  |\n",
      "|416   |493  |\n",
      "|537   |490  |\n",
      "|303   |484  |\n",
      "|234   |480  |\n",
      "|393   |448  |\n",
      "+------+-----+\n",
      "only showing top 10 rows\n",
      "\n"
     ]
    }
   ],
   "source": [
    "df.groupBy('userId').count().orderBy('count',ascending=False).show(10,False) \n"
   ]
  },
  {
   "cell_type": "code",
   "execution_count": 6,
   "metadata": {},
   "outputs": [
    {
     "name": "stdout",
     "output_type": "stream",
     "text": [
      "+------+-----+\n",
      "|userId|count|\n",
      "+------+-----+\n",
      "|732   |20   |\n",
      "|636   |20   |\n",
      "|572   |20   |\n",
      "|93    |20   |\n",
      "|685   |20   |\n",
      "|631   |20   |\n",
      "|596   |20   |\n",
      "|34    |20   |\n",
      "|300   |20   |\n",
      "|926   |20   |\n",
      "+------+-----+\n",
      "only showing top 10 rows\n",
      "\n"
     ]
    }
   ],
   "source": [
    "df.groupBy('userId').count().orderBy('count',ascending=True).show(10,False)"
   ]
  },
  {
   "cell_type": "code",
   "execution_count": 7,
   "metadata": {},
   "outputs": [
    {
     "name": "stdout",
     "output_type": "stream",
     "text": [
      "+-----------------------------+-----+\n",
      "|title                        |count|\n",
      "+-----------------------------+-----+\n",
      "|Star Wars (1977)             |583  |\n",
      "|Contact (1997)               |509  |\n",
      "|Fargo (1996)                 |508  |\n",
      "|Return of the Jedi (1983)    |507  |\n",
      "|Liar Liar (1997)             |485  |\n",
      "|English Patient, The (1996)  |481  |\n",
      "|Scream (1996)                |478  |\n",
      "|Toy Story (1995)             |452  |\n",
      "|Air Force One (1997)         |431  |\n",
      "|Independence Day (ID4) (1996)|429  |\n",
      "+-----------------------------+-----+\n",
      "only showing top 10 rows\n",
      "\n"
     ]
    }
   ],
   "source": [
    "df.groupBy('title').count().orderBy('count',ascending=False).show(10,False)"
   ]
  },
  {
   "cell_type": "markdown",
   "metadata": {},
   "source": [
    "## Feature Engineering "
   ]
  },
  {
   "cell_type": "code",
   "execution_count": 8,
   "metadata": {},
   "outputs": [],
   "source": [
    "from pyspark.sql.functions import *\n",
    "from pyspark.ml.feature import StringIndexer,IndexToString\n",
    "\n",
    "stringIndexer = StringIndexer(inputCol=\"title\",outputCol=\"title_new\")\n",
    "model = stringIndexer.fit(df)\n",
    "indexed = model.transform(df)\n"
   ]
  },
  {
   "cell_type": "code",
   "execution_count": 9,
   "metadata": {},
   "outputs": [
    {
     "name": "stdout",
     "output_type": "stream",
     "text": [
      "+------+------------+------+---------+\n",
      "|userId|       title|rating|title_new|\n",
      "+------+------------+------+---------+\n",
      "|   196|Kolya (1996)|     3|    287.0|\n",
      "|    63|Kolya (1996)|     3|    287.0|\n",
      "|   226|Kolya (1996)|     5|    287.0|\n",
      "|   154|Kolya (1996)|     3|    287.0|\n",
      "|   306|Kolya (1996)|     5|    287.0|\n",
      "|   296|Kolya (1996)|     4|    287.0|\n",
      "|    34|Kolya (1996)|     5|    287.0|\n",
      "|   271|Kolya (1996)|     4|    287.0|\n",
      "|   201|Kolya (1996)|     4|    287.0|\n",
      "|   209|Kolya (1996)|     4|    287.0|\n",
      "|    35|Kolya (1996)|     2|    287.0|\n",
      "|   354|Kolya (1996)|     5|    287.0|\n",
      "|   199|Kolya (1996)|     5|    287.0|\n",
      "|   113|Kolya (1996)|     2|    287.0|\n",
      "|     1|Kolya (1996)|     5|    287.0|\n",
      "|   173|Kolya (1996)|     5|    287.0|\n",
      "|   360|Kolya (1996)|     4|    287.0|\n",
      "|   234|Kolya (1996)|     4|    287.0|\n",
      "|    14|Kolya (1996)|     4|    287.0|\n",
      "|   309|Kolya (1996)|     4|    287.0|\n",
      "|   331|Kolya (1996)|     4|    287.0|\n",
      "|    21|Kolya (1996)|     3|    287.0|\n",
      "|   111|Kolya (1996)|     4|    287.0|\n",
      "|   439|Kolya (1996)|     5|    287.0|\n",
      "|   355|Kolya (1996)|     4|    287.0|\n",
      "+------+------------+------+---------+\n",
      "only showing top 25 rows\n",
      "\n"
     ]
    }
   ],
   "source": [
    "indexed.show(25)"
   ]
  },
  {
   "cell_type": "code",
   "execution_count": 10,
   "metadata": {},
   "outputs": [
    {
     "name": "stdout",
     "output_type": "stream",
     "text": [
      "+---------+-----+\n",
      "|title_new|count|\n",
      "+---------+-----+\n",
      "|0.0      |583  |\n",
      "|1.0      |509  |\n",
      "|2.0      |508  |\n",
      "|3.0      |507  |\n",
      "|4.0      |485  |\n",
      "|5.0      |481  |\n",
      "|6.0      |478  |\n",
      "|7.0      |452  |\n",
      "|8.0      |431  |\n",
      "|9.0      |429  |\n",
      "+---------+-----+\n",
      "only showing top 10 rows\n",
      "\n"
     ]
    }
   ],
   "source": [
    "indexed.groupBy('title_new').count().orderBy('count',ascending=False).show(10,False)"
   ]
  },
  {
   "cell_type": "markdown",
   "metadata": {},
   "source": [
    "## Splitting the Dataset"
   ]
  },
  {
   "cell_type": "code",
   "execution_count": 11,
   "metadata": {},
   "outputs": [],
   "source": [
    "train,test=indexed.randomSplit([0.75,0.25])"
   ]
  },
  {
   "cell_type": "code",
   "execution_count": 12,
   "metadata": {},
   "outputs": [
    {
     "data": {
      "text/plain": [
       "75093"
      ]
     },
     "execution_count": 12,
     "metadata": {},
     "output_type": "execute_result"
    }
   ],
   "source": [
    " train.count()"
   ]
  },
  {
   "cell_type": "code",
   "execution_count": 13,
   "metadata": {},
   "outputs": [
    {
     "data": {
      "text/plain": [
       "24907"
      ]
     },
     "execution_count": 13,
     "metadata": {},
     "output_type": "execute_result"
    }
   ],
   "source": [
    "test.count()"
   ]
  },
  {
   "cell_type": "markdown",
   "metadata": {},
   "source": [
    "## Build and Train "
   ]
  },
  {
   "cell_type": "code",
   "execution_count": 14,
   "metadata": {},
   "outputs": [],
   "source": [
    "from pyspark.ml.recommendation import ALS\n",
    "rec=ALS(maxIter=10,regParam=0.01,userCol='userId',itemCol='title_new',ratingCol='rating',nonnegative=True,coldStartStrategy=\"drop\")\n",
    "#  nonnegative =‘True’ doesn’t create negative ratings \n",
    "#  coldStartStrategy=‘drop’ to prevent any NaN ratings \n",
    "rec_model=rec.fit(train)"
   ]
  },
  {
   "cell_type": "markdown",
   "metadata": {},
   "source": [
    "## Prediction on test data \n"
   ]
  },
  {
   "cell_type": "code",
   "execution_count": 15,
   "metadata": {},
   "outputs": [],
   "source": [
    "predicted_ratings=rec_model.transform(test)"
   ]
  },
  {
   "cell_type": "code",
   "execution_count": 16,
   "metadata": {},
   "outputs": [
    {
     "name": "stdout",
     "output_type": "stream",
     "text": [
      "root\n",
      " |-- userId: integer (nullable = true)\n",
      " |-- title: string (nullable = true)\n",
      " |-- rating: integer (nullable = true)\n",
      " |-- title_new: double (nullable = false)\n",
      " |-- prediction: float (nullable = false)\n",
      "\n"
     ]
    }
   ],
   "source": [
    "predicted_ratings.printSchema()"
   ]
  },
  {
   "cell_type": "code",
   "execution_count": 17,
   "metadata": {},
   "outputs": [
    {
     "name": "stdout",
     "output_type": "stream",
     "text": [
      "+------+--------------------+------+---------+----------+\n",
      "|userId|               title|rating|title_new|prediction|\n",
      "+------+--------------------+------+---------+----------+\n",
      "|   141|River Wild, The (...|     4|    213.0| 3.9563932|\n",
      "|   311|Blues Brothers, T...|     3|     64.0|  4.284288|\n",
      "|   328| M. Butterfly (1993)|     2|    967.0| 1.3779681|\n",
      "|    90| Pulp Fiction (1994)|     5|     12.0| 3.6245391|\n",
      "|   562|Butch Cassidy and...|     4|    101.0| 3.8343136|\n",
      "|   450|Bye Bye, Love (1995)|     4|   1005.0|  4.301024|\n",
      "|   936|Joe's Apartment (...|     1|    643.0| 2.8558931|\n",
      "|    87|Blues Brothers, T...|     5|     64.0| 4.6309505|\n",
      "|   311|Don Juan DeMarco ...|     4|    435.0| 2.8511434|\n",
      "|   721|          187 (1997)|     3|    684.0| 3.8394866|\n",
      "+------+--------------------+------+---------+----------+\n",
      "only showing top 10 rows\n",
      "\n"
     ]
    }
   ],
   "source": [
    "predicted_ratings.orderBy(rand()).show(10)"
   ]
  },
  {
   "cell_type": "markdown",
   "metadata": {},
   "source": [
    "## Evaluatiuon metrics \n"
   ]
  },
  {
   "cell_type": "code",
   "execution_count": 20,
   "metadata": {},
   "outputs": [],
   "source": [
    " from pyspark.ml.evaluation import RegressionEvaluator\n",
    "\n",
    "evaluator=RegressionEvaluator(metricName='rmse',predictionCol='prediction',labelCol='rating')\n",
    "rmse=evaluator.evaluate(predicted_ratings)\n"
   ]
  },
  {
   "cell_type": "code",
   "execution_count": 21,
   "metadata": {},
   "outputs": [
    {
     "name": "stdout",
     "output_type": "stream",
     "text": [
      "1.0219132500803982\n"
     ]
    }
   ],
   "source": [
    "print(rmse)"
   ]
  },
  {
   "cell_type": "markdown",
   "metadata": {},
   "source": [
    "## Recommend Top fils that users might like "
   ]
  },
  {
   "cell_type": "code",
   "execution_count": 22,
   "metadata": {},
   "outputs": [
    {
     "data": {
      "text/plain": [
       "1664"
      ]
     },
     "execution_count": 22,
     "metadata": {},
     "output_type": "execute_result"
    }
   ],
   "source": [
    "unique_movies=indexed.select('title_new').distinct()\n",
    "unique_movies.count()\n",
    "# we have 1664 distinct movies "
   ]
  },
  {
   "cell_type": "code",
   "execution_count": 23,
   "metadata": {},
   "outputs": [],
   "source": [
    " a = unique_movies.alias('a')"
   ]
  },
  {
   "cell_type": "code",
   "execution_count": 24,
   "metadata": {},
   "outputs": [],
   "source": [
    "# Select a user for which we want to recommend other movies \n",
    "user_id=85"
   ]
  },
  {
   "cell_type": "code",
   "execution_count": 25,
   "metadata": {},
   "outputs": [],
   "source": [
    "#  filter the movies that this active user has already rated or seen\n",
    "watched_movies=indexed.filter(indexed['userId'] ==user_id).select('title_new').distinct()"
   ]
  },
  {
   "cell_type": "code",
   "execution_count": 27,
   "metadata": {},
   "outputs": [
    {
     "data": {
      "text/plain": [
       "287"
      ]
     },
     "execution_count": 27,
     "metadata": {},
     "output_type": "execute_result"
    }
   ],
   "source": [
    "watched_movies.count()"
   ]
  },
  {
   "cell_type": "code",
   "execution_count": 28,
   "metadata": {},
   "outputs": [],
   "source": [
    "b=watched_movies.alias('b')\n"
   ]
  },
  {
   "cell_type": "code",
   "execution_count": null,
   "metadata": {},
   "outputs": [],
   "source": []
  }
 ],
 "metadata": {
  "kernelspec": {
   "display_name": "Python 3",
   "language": "python",
   "name": "python3"
  },
  "language_info": {
   "codemirror_mode": {
    "name": "ipython",
    "version": 3
   },
   "file_extension": ".py",
   "mimetype": "text/x-python",
   "name": "python",
   "nbconvert_exporter": "python",
   "pygments_lexer": "ipython3",
   "version": "3.7.4"
  }
 },
 "nbformat": 4,
 "nbformat_minor": 2
}
